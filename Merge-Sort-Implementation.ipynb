{
 "cells": [
  {
   "cell_type": "markdown",
   "id": "2259640d",
   "metadata": {},
   "source": [
    "## Merge Sort Algorithm\n",
    "* 2-way sorting method"
   ]
  },
  {
   "cell_type": "code",
   "execution_count": 1,
   "id": "ed731556",
   "metadata": {},
   "outputs": [
    {
     "name": "stdout",
     "output_type": "stream",
     "text": [
      "larr: [5, 8, 9] | rarr:[1, 6, 8]\n",
      "rpop:  1\n",
      "[1]\n",
      "larr: [5, 8, 9] | rarr:[6, 8]\n",
      "lpop:  5\n",
      "[1, 5]\n",
      "larr: [8, 9] | rarr:[6, 8]\n",
      "rpop:  6\n",
      "[1, 5, 6]\n",
      "larr: [8, 9] | rarr:[8]\n",
      "rpop:  8\n",
      "[1, 5, 6, 8]\n"
     ]
    },
    {
     "data": {
      "text/plain": [
       "[1, 5, 6, 8, 8, 9]"
      ]
     },
     "execution_count": 1,
     "metadata": {},
     "output_type": "execute_result"
    }
   ],
   "source": [
    "# 2-way sorting method\n",
    "def merge(larr, rarr):\n",
    "    out_arr = []\n",
    "    while larr and rarr:\n",
    "        print(f\"larr: {larr} | rarr:{rarr}\")\n",
    "        if larr[0]<rarr[0]:\n",
    "            lpop = larr.pop(0)\n",
    "            print(\"lpop: \", lpop)\n",
    "            out_arr.append(lpop)\n",
    "        else:\n",
    "            rpop = rarr.pop(0)\n",
    "            print(\"rpop: \", rpop)\n",
    "            out_arr.append(rpop)\n",
    "        print(out_arr)\n",
    "\n",
    "    out_arr+= larr if larr else rarr\n",
    "    return out_arr\n",
    "merge([5, 8, 9], [1, 6, 8])"
   ]
  },
  {
   "cell_type": "markdown",
   "id": "1a51d8b5",
   "metadata": {},
   "source": [
    "### Merge Sort Algorithm (with Merge Iterative method)"
   ]
  },
  {
   "cell_type": "code",
   "execution_count": 2,
   "id": "93d4a944",
   "metadata": {},
   "outputs": [],
   "source": [
    "def merge_iterative(larr, rarr):\n",
    "    out_arr = []\n",
    "    while larr and rarr:\n",
    "#         print(f\"larr: {larr} | rarr:{rarr}\")\n",
    "        if larr[0]<rarr[0]:\n",
    "            lpop = larr.pop(0)\n",
    "#             print(\"lpop: \", lpop)\n",
    "            out_arr.append(lpop)\n",
    "        else:\n",
    "            rpop = rarr.pop(0)\n",
    "#             print(\"rpop: \", rpop)\n",
    "            out_arr.append(rpop)\n",
    "#         print(out_arr)\n",
    "\n",
    "    out_arr+= larr if larr else rarr\n",
    "    return out_arr\n",
    "def merge_sort(arr):\n",
    "    left, right=0, len(arr)\n",
    "    mid= right//2\n",
    "    if mid==0:\n",
    "        return arr\n",
    "    left_arr = merge_sort(arr[left:mid])\n",
    "    right_arr = merge_sort(arr[mid:right])\n",
    "    out= merge_iterative(left_arr, right_arr)\n",
    "    return out"
   ]
  },
  {
   "cell_type": "code",
   "execution_count": 3,
   "id": "08d657e1",
   "metadata": {},
   "outputs": [
    {
     "name": "stdout",
     "output_type": "stream",
     "text": [
      "Original : [9, 3, 7, 5, 6, 4, 8, 2]\n",
      "\n",
      "Python default sort method: [2, 3, 4, 5, 6, 7, 8, 9] \n",
      "\n",
      "Merge sort output: [2, 3, 4, 5, 6, 7, 8, 9]\n"
     ]
    }
   ],
   "source": [
    "a = [9, 3, 7, 5, 6 , 4, 8, 2]\n",
    "b = [9,3,7,5, 6 , 4, 8, 2]\n",
    "b.sort()\n",
    "print(f\"Original : {a}\\n\\nPython default sort method: {b} \\n\\nMerge sort output: {merge_sort(a)}\")"
   ]
  },
  {
   "cell_type": "markdown",
   "id": "fef9f8e6",
   "metadata": {},
   "source": [
    "### Merge Sort Algorithm (with Merge recursive method)"
   ]
  },
  {
   "cell_type": "markdown",
   "id": "70a0e63c",
   "metadata": {},
   "source": [
    "* Folllowing merge method works well for merging 2 arrays recursively ONLY if used inside merge sort function"
   ]
  },
  {
   "cell_type": "code",
   "execution_count": 4,
   "id": "9dd5e66b",
   "metadata": {},
   "outputs": [
    {
     "name": "stdout",
     "output_type": "stream",
     "text": [
      "Original : [9, 3, 7, 5, 6, 4, 8, 2]\n",
      "\n",
      "Python default sort method: [2, 3, 4, 5, 6, 7, 8, 9] \n",
      "\n",
      "Merge sort output: [2, 3, 4, 5, 6, 7, 8, 9]\n"
     ]
    }
   ],
   "source": [
    "# Folllowing merge method works well for merging 2 arrays recursively only if used inside merge sort\n",
    "def merge_recursively(larr, rarr):\n",
    "    if len(larr)==1 and len(rarr)==1:\n",
    "        return larr + rarr if larr[-1]<rarr[-1] else rarr + larr\n",
    "    elif len(larr)==0 or len(rarr)==0:\n",
    "        return larr + rarr# if larr else rarr\n",
    "\n",
    "    lpop = [larr.pop()] if larr else []\n",
    "    rpop = [rarr.pop()] if larr else []\n",
    "\n",
    "    out = merge_recursively(larr, rarr)# +lpop+ rpop\n",
    "    out+= lpop + rpop if lpop[-1]<rpop[-1] else rpop + lpop\n",
    "    return out\n",
    "\n",
    "def merge_sort(arr):\n",
    "    left, right=0, len(arr)\n",
    "    mid= right//2\n",
    "    if mid==0:\n",
    "        return arr\n",
    "    left_arr = merge_sort(arr[left:mid])\n",
    "    right_arr = merge_sort(arr[mid:right])\n",
    "    out= merge_recursively(left_arr, right_arr)\n",
    "    return out\n",
    "\n",
    "\n",
    "a = [9, 3, 7, 5, 6 , 4, 8, 2]\n",
    "b = [9,3,7,5, 6 , 4, 8, 2]\n",
    "b.sort()\n",
    "print(f\"Original : {a}\\n\\nPython default sort method: {b} \\n\\nMerge sort output: {merge_sort(a)}\")"
   ]
  },
  {
   "cell_type": "markdown",
   "id": "4a11b78f",
   "metadata": {},
   "source": [
    "_Note:_ For this merge sort implementation `merge_recursively` method doesn't work if tested individually for merging 2 arrays."
   ]
  },
  {
   "cell_type": "markdown",
   "id": "3e404df0",
   "metadata": {},
   "source": [
    "**Folllowing merge method works well even for merging 2 individual arrays recursively**"
   ]
  },
  {
   "cell_type": "code",
   "execution_count": 5,
   "id": "caed2b96",
   "metadata": {},
   "outputs": [
    {
     "data": {
      "text/plain": [
       "[5, 7, 8]"
      ]
     },
     "execution_count": 5,
     "metadata": {},
     "output_type": "execute_result"
    }
   ],
   "source": [
    "# Folllowing insert method inserts elements inside in arrays for 'merge_recursively_individual_arrays' recursively \n",
    "def insert_recursively(arr, element):\n",
    "    if len(arr)==0 or arr[-1]<element[-1]:\n",
    "        arr+=element\n",
    "        return arr\n",
    "    inner_element= arr.pop()\n",
    "    out= insert_recursively(arr, element)\n",
    "    out.append(inner_element)\n",
    "    return out\n",
    "\n",
    "insert_recursively([5, 8], [7])"
   ]
  },
  {
   "cell_type": "code",
   "execution_count": 6,
   "id": "4eec0879",
   "metadata": {},
   "outputs": [
    {
     "data": {
      "text/plain": [
       "[7, 8, 9, 11]"
      ]
     },
     "execution_count": 6,
     "metadata": {},
     "output_type": "execute_result"
    }
   ],
   "source": [
    "# Folllowing merge method works well for merging 2 arrays recursively\n",
    "def merge_recursively_individual_arrays(larr, rarr):\n",
    "    if len(larr)==1 and len(rarr)==1:\n",
    "        return larr + rarr if larr[-1]<rarr[-1] else rarr + larr\n",
    "    elif len(larr)==0 or len(rarr)==0:\n",
    "        return larr + rarr# if larr else rarr\n",
    "\n",
    "    lpop = [larr.pop()] if larr else []\n",
    "    rpop = [rarr.pop()] if larr else []\n",
    "\n",
    "    out = merge_recursively_individual_arrays(larr, rarr)# +lpop+ rpop\n",
    "    out= insert_recursively(out, lpop)\n",
    "    out= insert_recursively(out, rpop)\n",
    "#     out+= lpop + rpop if lpop[-1]<rpop[-1] else rpop + lpop\n",
    "    return out\n",
    "\n",
    "larr, rarr= [11, 9], [8, 7]# [9], [7]#\n",
    "merge_recursively_individual_arrays(larr, rarr)"
   ]
  },
  {
   "cell_type": "markdown",
   "id": "1c321919",
   "metadata": {},
   "source": [
    "## Insertion sort\n"
   ]
  },
  {
   "cell_type": "code",
   "execution_count": 7,
   "id": "e77f67d8",
   "metadata": {},
   "outputs": [
    {
     "data": {
      "text/plain": [
       "([9, 3, 7], [3, 7, 9])"
      ]
     },
     "execution_count": 7,
     "metadata": {},
     "output_type": "execute_result"
    }
   ],
   "source": [
    "a = [9, 3, 7]#, 5, 6 , 4, 8, 2]\n",
    "b = [9,3,7]#,5, 6 , 4, 8, 2]\n",
    "b.sort()\n",
    "a, b"
   ]
  },
  {
   "cell_type": "code",
   "execution_count": 8,
   "id": "77cec1dc",
   "metadata": {},
   "outputs": [
    {
     "data": {
      "text/plain": [
       "[3, 7, 9]"
      ]
     },
     "execution_count": 8,
     "metadata": {},
     "output_type": "execute_result"
    }
   ],
   "source": [
    "def insert(arrb, element):\n",
    "    if len(arrb)==0 or arrb[-1]<element:\n",
    "        arrb.append(element)\n",
    "        return arrb\n",
    "    inner_element= arrb.pop()\n",
    "    out= insert(arrb, element)\n",
    "    out.append(inner_element)\n",
    "    return out\n",
    "\n",
    "def solve(arr):\n",
    "    if len(arr)==1:\n",
    "        return arr\n",
    "    outer_element= arr.pop()\n",
    "    out = solve(arr)\n",
    "    final= insert(out, outer_element)\n",
    "    return final\n",
    "solve(a)#[3,2,1,4,5,9])"
   ]
  },
  {
   "cell_type": "markdown",
   "id": "11d6e0b8",
   "metadata": {},
   "source": [
    "______________"
   ]
  }
 ],
 "metadata": {
  "kernelspec": {
   "display_name": "Python 3 (ipykernel)",
   "language": "python",
   "name": "python3"
  },
  "language_info": {
   "codemirror_mode": {
    "name": "ipython",
    "version": 3
   },
   "file_extension": ".py",
   "mimetype": "text/x-python",
   "name": "python",
   "nbconvert_exporter": "python",
   "pygments_lexer": "ipython3",
   "version": "3.9.6"
  }
 },
 "nbformat": 4,
 "nbformat_minor": 5
}
